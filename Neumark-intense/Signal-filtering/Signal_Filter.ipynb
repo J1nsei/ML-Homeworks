{
 "cells": [
  {
   "cell_type": "code",
   "execution_count": 28,
   "id": "12036dd2",
   "metadata": {},
   "outputs": [],
   "source": [
    "from scipy import interpolate\n",
    "from scipy.signal import butter, lfilter, lfilter_zi, find_peaks\n",
    "import numpy as np \n",
    "import pandas as pd \n",
    "import glob\n",
    "from tqdm import tqdm \n",
    "import pyarrow.csv"
   ]
  },
  {
   "cell_type": "code",
   "execution_count": 37,
   "id": "b807588a",
   "metadata": {},
   "outputs": [],
   "source": [
    "ROOT = \"watch_data_test/watch_data_test\"\n",
    "SUBMISSION_SR = 30 "
   ]
  },
  {
   "cell_type": "code",
   "execution_count": 52,
   "id": "09eed079",
   "metadata": {},
   "outputs": [],
   "source": [
    "def butter_bandpass(lowcut, highcut, fs, order=5):\n",
    "    nyq = 0.5 * fs\n",
    "    low = lowcut / nyq\n",
    "    high = highcut / nyq\n",
    "    b, a = butter(order, [low, high], btype='band')\n",
    "    return b, a"
   ]
  },
  {
   "cell_type": "code",
   "execution_count": 53,
   "id": "be16b285",
   "metadata": {},
   "outputs": [],
   "source": [
    "def butter_bandpass_filter_zi(data, lowcut, highcut, fs, order=5):\n",
    "    b, a = butter_bandpass(lowcut, highcut, fs, order=order)\n",
    "    zi = lfilter_zi(b, a)\n",
    "    y,zo = lfilter(b, a, data, zi=zi*data[0])\n",
    "    return y"
   ]
  },
  {
   "cell_type": "code",
   "execution_count": 54,
   "id": "522b3797",
   "metadata": {},
   "outputs": [],
   "source": [
    "def format_peaks_to_intervals(ppg_peaks, ts_start, ts_finish):\n",
    "    timestamps_interp = np.linspace(ts_start, ts_finish, int((ts_finish - ts_start) * SUBMISSION_SR))\n",
    "    heartbeat_intervals = np.diff(ppg_peaks, prepend=ts_start)\n",
    "    func = interpolate.interp1d(ppg_peaks, heartbeat_intervals, \"nearest\", bounds_error=False, fill_value=0)\n",
    "    heartbeat_intervals_interp = func(timestamps_interp)\n",
    "    return heartbeat_intervals_interp"
   ]
  },
  {
   "cell_type": "code",
   "execution_count": 55,
   "id": "4fbf540e",
   "metadata": {},
   "outputs": [],
   "source": [
    "def process_exp(ppg_df, params):\n",
    "    params['data'] = ppg_df['PPG_signal'].values\n",
    "    timestamps = ppg_df['Timestamp'].values\n",
    "    filtered = butter_bandpass_filter_zi(**params)\n",
    "    ppg_peak_idxs = find_peaks(filtered)[0]\n",
    "    ppg_peaks = timestamps[ppg_peak_idxs]\n",
    "    ppg_rr_intervals_interp = format_peaks_to_intervals(ppg_peaks, timestamps[0], timestamps[-1])\n",
    "    return ppg_rr_intervals_interp"
   ]
  },
  {
   "cell_type": "code",
   "execution_count": 56,
   "id": "d6043ef7",
   "metadata": {},
   "outputs": [],
   "source": [
    "params = {\n",
    "        'data': None,\n",
    "        'lowcut': 1.5,\n",
    "        'highcut': 5,\n",
    "        'fs': 120,\n",
    "        'order': 2\n",
    "}"
   ]
  },
  {
   "cell_type": "code",
   "execution_count": 57,
   "id": "d9264e80",
   "metadata": {},
   "outputs": [
    {
     "name": "stderr",
     "output_type": "stream",
     "text": [
      "100%|█████████████████████████████████████████████| 9/9 [00:00<00:00, 44.00it/s]\n"
     ]
    },
    {
     "data": {
      "text/plain": [
       "(1347666, 2)"
      ]
     },
     "execution_count": 57,
     "metadata": {},
     "output_type": "execute_result"
    }
   ],
   "source": [
    "test_ppgs_pathes = glob.glob(f\"{ROOT}/PPG_EXP_*.csv\")\n",
    "test_ppgs_pathes.sort()\n",
    "all_predictions = []\n",
    "\n",
    "for path in tqdm(test_ppgs_pathes):\n",
    "    ppg_df = pyarrow.csv.read_csv(path).to_pandas()\n",
    "    ppg_rr_intervals_interp = process_exp(ppg_df, params)\n",
    "    all_predictions.append(ppg_rr_intervals_interp)\n",
    "all_predictions = np.concatenate(all_predictions)\n",
    "sample_summission = pd.DataFrame({\"PPG_interbeat_interval\": all_predictions})\n",
    "sample_summission['id'] = sample_summission.index\n",
    "sample_summission.to_csv(\"submission.csv\", index=None)\n",
    "sample_summission.shape"
   ]
  },
  {
   "cell_type": "code",
   "execution_count": null,
   "id": "0a2777aa",
   "metadata": {},
   "outputs": [],
   "source": []
  }
 ],
 "metadata": {
  "kernelspec": {
   "display_name": "Python 3 (ipykernel)",
   "language": "python",
   "name": "python3"
  },
  "language_info": {
   "codemirror_mode": {
    "name": "ipython",
    "version": 3
   },
   "file_extension": ".py",
   "mimetype": "text/x-python",
   "name": "python",
   "nbconvert_exporter": "python",
   "pygments_lexer": "ipython3",
   "version": "3.10.6"
  }
 },
 "nbformat": 4,
 "nbformat_minor": 5
}
